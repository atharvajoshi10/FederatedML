{
  "nbformat": 4,
  "nbformat_minor": 0,
  "metadata": {
    "colab": {
      "provenance": [],
      "gpuType": "T4",
      "mount_file_id": "1-rXGTpksarpbQwhEWp99XW1ij0lnM9bx",
      "authorship_tag": "ABX9TyP0zdmeKBfpNOIrHtoGgL2U",
      "include_colab_link": true
    },
    "kernelspec": {
      "name": "python3",
      "display_name": "Python 3"
    },
    "language_info": {
      "name": "python"
    },
    "accelerator": "GPU"
  },
  "cells": [
    {
      "cell_type": "markdown",
      "metadata": {
        "id": "view-in-github",
        "colab_type": "text"
      },
      "source": [
        "<a href=\"https://colab.research.google.com/github/atharvajoshi10/FederatedML/blob/dev%2Funified_fine_tuning/Roberta_Base_Unified_Fine_Tuning.ipynb\" target=\"_parent\"><img src=\"https://colab.research.google.com/assets/colab-badge.svg\" alt=\"Open In Colab\"/></a>"
      ]
    },
    {
      "cell_type": "markdown",
      "source": [
        "# Base Model\n",
        "\n",
        "Attempting to recreate the validation F1 of the following model.\n",
        "https://huggingface.co/JeremiahZ/roberta-base-mrpc"
      ],
      "metadata": {
        "id": "ZsnwBkcAquzh"
      }
    },
    {
      "cell_type": "markdown",
      "source": [
        "# Dependencies\n",
        "\n",
        "GPU - T4\n",
        "\n",
        "Note : Force Update accelerate since it defaults to the old version.\n",
        "Restart the notebook once the below cell has executed."
      ],
      "metadata": {
        "id": "NETxwakOq4EE"
      }
    },
    {
      "cell_type": "code",
      "source": [
        "%%capture\n",
        "!pip install transformers\n",
        "!pip install evaluate\n",
        "!pip install datasets\n",
        "!pip install accelerate -U"
      ],
      "metadata": {
        "id": "Vu-rVdhqUleW"
      },
      "execution_count": 1,
      "outputs": []
    },
    {
      "cell_type": "code",
      "source": [
        "from datasets import load_dataset\n",
        "from transformers import AutoTokenizer, AutoModelForSequenceClassification, Trainer, AutoConfig, MobileBertConfig, TrainingArguments, DataCollatorWithPadding\n",
        "import numpy as np\n",
        "import evaluate"
      ],
      "metadata": {
        "id": "KmMZBzZpru8I"
      },
      "execution_count": 2,
      "outputs": []
    },
    {
      "cell_type": "markdown",
      "source": [
        "# Import the Base Roberta Model\n"
      ],
      "metadata": {
        "id": "s3KBK6rirfvq"
      }
    },
    {
      "cell_type": "code",
      "execution_count": 3,
      "metadata": {
        "colab": {
          "base_uri": "https://localhost:8080/"
        },
        "id": "lLQ7T0nmUVrF",
        "outputId": "bab611be-314e-4669-c41e-8b119f00afa0"
      },
      "outputs": [
        {
          "output_type": "stream",
          "name": "stderr",
          "text": [
            "Some weights of RobertaForSequenceClassification were not initialized from the model checkpoint at roberta-base and are newly initialized: ['classifier.out_proj.bias', 'classifier.dense.weight', 'classifier.out_proj.weight', 'classifier.dense.bias']\n",
            "You should probably TRAIN this model on a down-stream task to be able to use it for predictions and inference.\n"
          ]
        }
      ],
      "source": [
        "tokenizer = AutoTokenizer.from_pretrained(\"roberta-base\")\n",
        "model = AutoModelForSequenceClassification.from_pretrained(\"roberta-base\")"
      ]
    },
    {
      "cell_type": "markdown",
      "source": [
        "# Tokenizer Definition\n",
        "\n",
        "Since this a sequence classification job to check whether both the sentences say the same thing, we must tokenize every pair of sentence together."
      ],
      "metadata": {
        "id": "HqsgErtOrlEO"
      }
    },
    {
      "cell_type": "code",
      "source": [
        "raw_datasets = load_dataset(\"glue\", \"mrpc\")\n",
        "\n",
        "def tokenize_function(example):\n",
        "    return tokenizer(example[\"sentence1\"], example[\"sentence2\"])\n",
        "\n",
        "\n",
        "tokenized_datasets = raw_datasets.map(tokenize_function, batched=True)\n",
        "data_collator = DataCollatorWithPadding(tokenizer=tokenizer)"
      ],
      "metadata": {
        "id": "6NC16q1hU67f"
      },
      "execution_count": 4,
      "outputs": []
    },
    {
      "cell_type": "markdown",
      "source": [
        "# Training Parameters\n",
        "\n",
        "Using custom training parameters along with computed validation metrics."
      ],
      "metadata": {
        "id": "crzgc1jgsFS_"
      }
    },
    {
      "cell_type": "code",
      "source": [
        "training_args = TrainingArguments(\"estimate_trainer\", num_train_epochs=5, learning_rate=2e-05,\n",
        "                                  lr_scheduler_type=\"linear\", per_device_train_batch_size=16, seed=42,\n",
        "                                  per_device_eval_batch_size=8, warmup_ratio=0.06)\n",
        "\n",
        "def compute_metrics(eval_preds):\n",
        "    metric = evaluate.load(\"glue\", \"mrpc\")\n",
        "    logits, labels = eval_preds\n",
        "    predictions = np.argmax(logits, axis=-1)\n",
        "    return metric.compute(predictions=predictions, references=labels)\n",
        "\n",
        "\n",
        "\n",
        "trainer = Trainer(\n",
        "    model,\n",
        "    training_args,\n",
        "    train_dataset=tokenized_datasets[\"train\"],\n",
        "    eval_dataset=tokenized_datasets[\"validation\"],\n",
        "    tokenizer=tokenizer,\n",
        "    compute_metrics=compute_metrics,\n",
        "    data_collator=data_collator\n",
        ")"
      ],
      "metadata": {
        "id": "6qa-DLq4VtUg"
      },
      "execution_count": 5,
      "outputs": []
    },
    {
      "cell_type": "markdown",
      "source": [
        "# Model Training"
      ],
      "metadata": {
        "id": "a-vFbae2sU7q"
      }
    },
    {
      "cell_type": "code",
      "source": [
        "trainer.train()"
      ],
      "metadata": {
        "colab": {
          "base_uri": "https://localhost:8080/",
          "height": 213
        },
        "id": "xDIlIh8ka0yu",
        "outputId": "19b40048-c633-4b1f-cf49-8ab52863f29f"
      },
      "execution_count": 6,
      "outputs": [
        {
          "output_type": "stream",
          "name": "stderr",
          "text": [
            "You're using a RobertaTokenizerFast tokenizer. Please note that with a fast tokenizer, using the `__call__` method is faster than using a method to encode the text followed by a call to the `pad` method to get a padded encoding.\n"
          ]
        },
        {
          "output_type": "display_data",
          "data": {
            "text/plain": [
              "<IPython.core.display.HTML object>"
            ],
            "text/html": [
              "\n",
              "    <div>\n",
              "      \n",
              "      <progress value='1150' max='1150' style='width:300px; height:20px; vertical-align: middle;'></progress>\n",
              "      [1150/1150 05:04, Epoch 5/5]\n",
              "    </div>\n",
              "    <table border=\"1\" class=\"dataframe\">\n",
              "  <thead>\n",
              " <tr style=\"text-align: left;\">\n",
              "      <th>Step</th>\n",
              "      <th>Training Loss</th>\n",
              "    </tr>\n",
              "  </thead>\n",
              "  <tbody>\n",
              "    <tr>\n",
              "      <td>500</td>\n",
              "      <td>0.418000</td>\n",
              "    </tr>\n",
              "    <tr>\n",
              "      <td>1000</td>\n",
              "      <td>0.166100</td>\n",
              "    </tr>\n",
              "  </tbody>\n",
              "</table><p>"
            ]
          },
          "metadata": {}
        },
        {
          "output_type": "execute_result",
          "data": {
            "text/plain": [
              "TrainOutput(global_step=1150, training_loss=0.2668577243970788, metrics={'train_runtime': 306.1987, 'train_samples_per_second': 59.896, 'train_steps_per_second': 3.756, 'total_flos': 720461791784400.0, 'train_loss': 0.2668577243970788, 'epoch': 5.0})"
            ]
          },
          "metadata": {},
          "execution_count": 6
        }
      ]
    },
    {
      "cell_type": "markdown",
      "source": [
        "# Checking the Validation F1"
      ],
      "metadata": {
        "id": "3w9kYGeNsf3j"
      }
    },
    {
      "cell_type": "code",
      "source": [
        "predictions = trainer.predict(tokenized_datasets[\"validation\"])\n",
        "\n",
        "preds = np.argmax(predictions.predictions, axis=-1)\n",
        "\n",
        "\n",
        "metric = evaluate.load(\"glue\", \"mrpc\")\n",
        "metric.compute(predictions=preds, references=predictions.label_ids)"
      ],
      "metadata": {
        "id": "v-hYVHsEUxm9",
        "colab": {
          "base_uri": "https://localhost:8080/",
          "height": 35
        },
        "outputId": "d5d2339d-b851-4a8b-ffac-6c987b669a59"
      },
      "execution_count": 7,
      "outputs": [
        {
          "output_type": "display_data",
          "data": {
            "text/plain": [
              "<IPython.core.display.HTML object>"
            ],
            "text/html": []
          },
          "metadata": {}
        },
        {
          "output_type": "execute_result",
          "data": {
            "text/plain": [
              "{'accuracy': 0.8774509803921569, 'f1': 0.910394265232975}"
            ]
          },
          "metadata": {},
          "execution_count": 7
        }
      ]
    }
  ]
}